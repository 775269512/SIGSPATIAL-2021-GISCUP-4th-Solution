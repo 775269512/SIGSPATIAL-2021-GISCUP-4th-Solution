{
 "cells": [
  {
   "cell_type": "code",
   "execution_count": 1,
   "id": "3b395011-514d-48d4-81f4-3e5de7ccfac3",
   "metadata": {},
   "outputs": [],
   "source": [
    "%load_ext autoreload"
   ]
  },
  {
   "cell_type": "code",
   "execution_count": 2,
   "id": "0f14ba32-7845-4553-9992-4a4cd9ae9dc4",
   "metadata": {},
   "outputs": [],
   "source": [
    "%autoreload 2\n",
    "\n",
    "import json\n",
    "from pathlib import Path\n",
    "from utils import *\n",
    "from concurrent.futures import ProcessPoolExecutor\n",
    "from IPython.core.debugger import set_trace\n",
    "import re\n",
    "import ujson\n",
    "import pickle\n",
    "import msgpack\n",
    "import numpy as np"
   ]
  },
  {
   "cell_type": "code",
   "execution_count": null,
   "id": "ae48b1b7",
   "metadata": {},
   "outputs": [],
   "source": []
  },
  {
   "cell_type": "code",
   "execution_count": 3,
   "id": "d7522ffb-c4ef-433e-aad7-19d8b7288d5f",
   "metadata": {},
   "outputs": [],
   "source": [
    "folder = Path(\"/home/mjl/data/giscup_2021\")\n",
    "def get_lines(path):\n",
    "    with open(path, 'r') as f:\n",
    "        lines = f.readlines()\n",
    "        return lines"
   ]
  },
  {
   "cell_type": "code",
   "execution_count": 4,
   "id": "ee815d7b-c849-41cf-a911-eaba42c02abc",
   "metadata": {},
   "outputs": [],
   "source": [
    "# 25号数据比较多\n",
    "file_name = \"20200801.txt\""
   ]
  },
  {
   "cell_type": "code",
   "execution_count": 5,
   "id": "5d65758c-e795-45dc-9037-9f61c51f27e5",
   "metadata": {},
   "outputs": [
    {
     "data": {
      "text/plain": [
       "74328"
      ]
     },
     "execution_count": 5,
     "metadata": {},
     "output_type": "execute_result"
    }
   ],
   "source": [
    "lines = get_lines(folder/f'train/{file_name}')\n",
    "len(lines)"
   ]
  },
  {
   "cell_type": "code",
   "execution_count": null,
   "id": "45deae3b-5ccb-489e-9ccb-1aa6293fb0dc",
   "metadata": {},
   "outputs": [],
   "source": [
    "# head, link, cross = line2part(lines[0])"
   ]
  },
  {
   "cell_type": "code",
   "execution_count": 5,
   "id": "6195b971-5b42-499a-8aaa-05388791ad01",
   "metadata": {},
   "outputs": [],
   "source": [
    "def line2dict(line):\n",
    "    head, link, cross = line2part(line)\n",
    "    \n",
    "    # head\n",
    "    head_keys = [\"order_id\", \"eta\", \"dist\", \"simple_eta\", \"driver_id\", \"slice_id\"]\n",
    "    head_dict = dict(zip(head_keys, np.asarray(head.split(), dtype=float)))\n",
    "    \n",
    "    # line\n",
    "    link_ary = link2npary(link)\n",
    "    link_id = link_ary[:, 0].tolist()\n",
    "\n",
    "    link_time = link_ary[:, 1].tolist()\n",
    "\n",
    "    link_ratio = link_ary[:, 2].tolist()\n",
    "\n",
    "    link_current_status = link_ary[:, 3].tolist()\n",
    "\n",
    "    link_arrival_status = link_ary[:, 4].tolist()\n",
    "\n",
    "    link_keys = [\"link_id\", \"link_time\", \"link_ratio\", \"link_current_status\", \"link_arrival_status\"]\n",
    "\n",
    "    link_dict = dict(zip(link_keys, \n",
    "             [link_id, link_time, link_ratio, link_current_status, link_arrival_status]))\n",
    "    \n",
    "\n",
    "    # cross\n",
    "    if len(cross.strip()) == 0:\n",
    "        cross_dict={}\n",
    "    else:\n",
    "        cross_ary = cross2npary(cross)\n",
    "\n",
    "        cross_start = cross_ary[:, 0].tolist()\n",
    "        cross_end = cross_ary[:, 1].tolist()\n",
    "        cross_time = cross_ary[:, 2].tolist()\n",
    "\n",
    "        cross_keys = [\"cross_start\", \"cross_end\", \"cross_time\"]\n",
    "        cross_dict = dict(zip(cross_keys, \n",
    "                 [cross_start, cross_end, cross_time]))\n",
    "    \n",
    "    # combine all    \n",
    "    line_dict = {}\n",
    "    line_dict.update(head_dict)\n",
    "    line_dict.update(link_dict)\n",
    "    line_dict.update(cross_dict)\n",
    "    \n",
    "    return line_dict"
   ]
  },
  {
   "cell_type": "code",
   "execution_count": 42,
   "id": "7a6b44f9-9e4b-4894-b1a7-d6b70804a306",
   "metadata": {
    "collapsed": true,
    "jupyter": {
     "outputs_hidden": true
    },
    "tags": []
   },
   "outputs": [
    {
     "name": "stdout",
     "output_type": "stream",
     "text": [
      "CPU times: user 1min 12s, sys: 18.8 s, total: 1min 30s\n",
      "Wall time: 1min 21s\n"
     ]
    },
    {
     "data": {
      "text/plain": [
       "329123"
      ]
     },
     "execution_count": 42,
     "metadata": {},
     "output_type": "execute_result"
    },
    {
     "name": "stderr",
     "output_type": "stream",
     "text": [
      "Process ForkProcess-12:\n",
      "Process ForkProcess-13:\n",
      "Process ForkProcess-17:\n",
      "Process ForkProcess-16:\n",
      "Process ForkProcess-19:\n",
      "Process ForkProcess-18:\n",
      "Process ForkProcess-20:\n",
      "Process ForkProcess-15:\n",
      "Process ForkProcess-11:\n",
      "Process ForkProcess-14:\n",
      "Traceback (most recent call last):\n",
      "Traceback (most recent call last):\n",
      "Traceback (most recent call last):\n",
      "Traceback (most recent call last):\n",
      "  File \"/home/mjl/anaconda3/envs/torch1.8.1+cuda111/lib/python3.8/multiprocessing/process.py\", line 315, in _bootstrap\n",
      "    self.run()\n",
      "Traceback (most recent call last):\n",
      "  File \"/home/mjl/anaconda3/envs/torch1.8.1+cuda111/lib/python3.8/multiprocessing/process.py\", line 315, in _bootstrap\n",
      "    self.run()\n",
      "Traceback (most recent call last):\n",
      "  File \"/home/mjl/anaconda3/envs/torch1.8.1+cuda111/lib/python3.8/multiprocessing/process.py\", line 315, in _bootstrap\n",
      "    self.run()\n",
      "Traceback (most recent call last):\n",
      "  File \"/home/mjl/anaconda3/envs/torch1.8.1+cuda111/lib/python3.8/multiprocessing/process.py\", line 315, in _bootstrap\n",
      "    self.run()\n",
      "  File \"/home/mjl/anaconda3/envs/torch1.8.1+cuda111/lib/python3.8/multiprocessing/process.py\", line 108, in run\n",
      "    self._target(*self._args, **self._kwargs)\n",
      "Traceback (most recent call last):\n",
      "  File \"/home/mjl/anaconda3/envs/torch1.8.1+cuda111/lib/python3.8/multiprocessing/process.py\", line 108, in run\n",
      "    self._target(*self._args, **self._kwargs)\n",
      "  File \"/home/mjl/anaconda3/envs/torch1.8.1+cuda111/lib/python3.8/multiprocessing/process.py\", line 108, in run\n",
      "    self._target(*self._args, **self._kwargs)\n",
      "  File \"/home/mjl/anaconda3/envs/torch1.8.1+cuda111/lib/python3.8/multiprocessing/process.py\", line 315, in _bootstrap\n",
      "    self.run()\n",
      "Traceback (most recent call last):\n",
      "  File \"/home/mjl/anaconda3/envs/torch1.8.1+cuda111/lib/python3.8/multiprocessing/process.py\", line 315, in _bootstrap\n",
      "    self.run()\n",
      "Traceback (most recent call last):\n",
      "  File \"/home/mjl/anaconda3/envs/torch1.8.1+cuda111/lib/python3.8/concurrent/futures/process.py\", line 233, in _process_worker\n",
      "    call_item = call_queue.get(block=True)\n",
      "  File \"/home/mjl/anaconda3/envs/torch1.8.1+cuda111/lib/python3.8/multiprocessing/process.py\", line 315, in _bootstrap\n",
      "    self.run()\n",
      "  File \"/home/mjl/anaconda3/envs/torch1.8.1+cuda111/lib/python3.8/multiprocessing/process.py\", line 108, in run\n",
      "    self._target(*self._args, **self._kwargs)\n",
      "  File \"/home/mjl/anaconda3/envs/torch1.8.1+cuda111/lib/python3.8/concurrent/futures/process.py\", line 233, in _process_worker\n",
      "    call_item = call_queue.get(block=True)\n",
      "  File \"/home/mjl/anaconda3/envs/torch1.8.1+cuda111/lib/python3.8/multiprocessing/process.py\", line 315, in _bootstrap\n",
      "    self.run()\n",
      "  File \"/home/mjl/anaconda3/envs/torch1.8.1+cuda111/lib/python3.8/concurrent/futures/process.py\", line 233, in _process_worker\n",
      "    call_item = call_queue.get(block=True)\n",
      "  File \"/home/mjl/anaconda3/envs/torch1.8.1+cuda111/lib/python3.8/multiprocessing/process.py\", line 108, in run\n",
      "    self._target(*self._args, **self._kwargs)\n",
      "  File \"/home/mjl/anaconda3/envs/torch1.8.1+cuda111/lib/python3.8/multiprocessing/process.py\", line 315, in _bootstrap\n",
      "    self.run()\n",
      "  File \"/home/mjl/anaconda3/envs/torch1.8.1+cuda111/lib/python3.8/multiprocessing/process.py\", line 108, in run\n",
      "    self._target(*self._args, **self._kwargs)\n",
      "  File \"/home/mjl/anaconda3/envs/torch1.8.1+cuda111/lib/python3.8/multiprocessing/queues.py\", line 96, in get\n",
      "    with self._rlock:\n",
      "  File \"/home/mjl/anaconda3/envs/torch1.8.1+cuda111/lib/python3.8/multiprocessing/process.py\", line 315, in _bootstrap\n",
      "    self.run()\n",
      "  File \"/home/mjl/anaconda3/envs/torch1.8.1+cuda111/lib/python3.8/multiprocessing/process.py\", line 108, in run\n",
      "    self._target(*self._args, **self._kwargs)\n",
      "  File \"/home/mjl/anaconda3/envs/torch1.8.1+cuda111/lib/python3.8/multiprocessing/queues.py\", line 96, in get\n",
      "    with self._rlock:\n",
      "  File \"/home/mjl/anaconda3/envs/torch1.8.1+cuda111/lib/python3.8/concurrent/futures/process.py\", line 233, in _process_worker\n",
      "    call_item = call_queue.get(block=True)\n",
      "  File \"/home/mjl/anaconda3/envs/torch1.8.1+cuda111/lib/python3.8/multiprocessing/queues.py\", line 96, in get\n",
      "    with self._rlock:\n",
      "  File \"/home/mjl/anaconda3/envs/torch1.8.1+cuda111/lib/python3.8/multiprocessing/process.py\", line 108, in run\n",
      "    self._target(*self._args, **self._kwargs)\n",
      "  File \"/home/mjl/anaconda3/envs/torch1.8.1+cuda111/lib/python3.8/concurrent/futures/process.py\", line 233, in _process_worker\n",
      "    call_item = call_queue.get(block=True)\n",
      "  File \"/home/mjl/anaconda3/envs/torch1.8.1+cuda111/lib/python3.8/multiprocessing/process.py\", line 108, in run\n",
      "    self._target(*self._args, **self._kwargs)\n",
      "  File \"/home/mjl/anaconda3/envs/torch1.8.1+cuda111/lib/python3.8/multiprocessing/synchronize.py\", line 95, in __enter__\n",
      "    return self._semlock.__enter__()\n",
      "  File \"/home/mjl/anaconda3/envs/torch1.8.1+cuda111/lib/python3.8/concurrent/futures/process.py\", line 233, in _process_worker\n",
      "    call_item = call_queue.get(block=True)\n",
      "  File \"/home/mjl/anaconda3/envs/torch1.8.1+cuda111/lib/python3.8/multiprocessing/process.py\", line 108, in run\n",
      "    self._target(*self._args, **self._kwargs)\n",
      "  File \"/home/mjl/anaconda3/envs/torch1.8.1+cuda111/lib/python3.8/multiprocessing/synchronize.py\", line 95, in __enter__\n",
      "    return self._semlock.__enter__()\n",
      "  File \"/home/mjl/anaconda3/envs/torch1.8.1+cuda111/lib/python3.8/concurrent/futures/process.py\", line 233, in _process_worker\n",
      "    call_item = call_queue.get(block=True)\n",
      "  File \"/home/mjl/anaconda3/envs/torch1.8.1+cuda111/lib/python3.8/multiprocessing/queues.py\", line 96, in get\n",
      "    with self._rlock:\n",
      "  File \"/home/mjl/anaconda3/envs/torch1.8.1+cuda111/lib/python3.8/multiprocessing/synchronize.py\", line 95, in __enter__\n",
      "    return self._semlock.__enter__()\n",
      "  File \"/home/mjl/anaconda3/envs/torch1.8.1+cuda111/lib/python3.8/multiprocessing/queues.py\", line 96, in get\n",
      "    with self._rlock:\n",
      "  File \"/home/mjl/anaconda3/envs/torch1.8.1+cuda111/lib/python3.8/concurrent/futures/process.py\", line 233, in _process_worker\n",
      "    call_item = call_queue.get(block=True)\n",
      "KeyboardInterrupt\n",
      "  File \"/home/mjl/anaconda3/envs/torch1.8.1+cuda111/lib/python3.8/concurrent/futures/process.py\", line 233, in _process_worker\n",
      "    call_item = call_queue.get(block=True)\n",
      "  File \"/home/mjl/anaconda3/envs/torch1.8.1+cuda111/lib/python3.8/multiprocessing/queues.py\", line 96, in get\n",
      "    with self._rlock:\n",
      "KeyboardInterrupt\n",
      "  File \"/home/mjl/anaconda3/envs/torch1.8.1+cuda111/lib/python3.8/concurrent/futures/process.py\", line 233, in _process_worker\n",
      "    call_item = call_queue.get(block=True)\n",
      "KeyboardInterrupt\n",
      "  File \"/home/mjl/anaconda3/envs/torch1.8.1+cuda111/lib/python3.8/multiprocessing/queues.py\", line 96, in get\n",
      "    with self._rlock:\n",
      "  File \"/home/mjl/anaconda3/envs/torch1.8.1+cuda111/lib/python3.8/multiprocessing/synchronize.py\", line 95, in __enter__\n",
      "    return self._semlock.__enter__()\n",
      "  File \"/home/mjl/anaconda3/envs/torch1.8.1+cuda111/lib/python3.8/multiprocessing/synchronize.py\", line 95, in __enter__\n",
      "    return self._semlock.__enter__()\n",
      "  File \"/home/mjl/anaconda3/envs/torch1.8.1+cuda111/lib/python3.8/multiprocessing/queues.py\", line 96, in get\n",
      "    with self._rlock:\n",
      "  File \"/home/mjl/anaconda3/envs/torch1.8.1+cuda111/lib/python3.8/multiprocessing/queues.py\", line 96, in get\n",
      "    with self._rlock:\n",
      "  File \"/home/mjl/anaconda3/envs/torch1.8.1+cuda111/lib/python3.8/multiprocessing/synchronize.py\", line 95, in __enter__\n",
      "    return self._semlock.__enter__()\n",
      "  File \"/home/mjl/anaconda3/envs/torch1.8.1+cuda111/lib/python3.8/multiprocessing/queues.py\", line 97, in get\n",
      "    res = self._recv_bytes()\n",
      "  File \"/home/mjl/anaconda3/envs/torch1.8.1+cuda111/lib/python3.8/multiprocessing/synchronize.py\", line 95, in __enter__\n",
      "    return self._semlock.__enter__()\n",
      "KeyboardInterrupt\n",
      "KeyboardInterrupt\n",
      "  File \"/home/mjl/anaconda3/envs/torch1.8.1+cuda111/lib/python3.8/multiprocessing/synchronize.py\", line 95, in __enter__\n",
      "    return self._semlock.__enter__()\n",
      "  File \"/home/mjl/anaconda3/envs/torch1.8.1+cuda111/lib/python3.8/multiprocessing/synchronize.py\", line 95, in __enter__\n",
      "    return self._semlock.__enter__()\n",
      "KeyboardInterrupt\n",
      "  File \"/home/mjl/anaconda3/envs/torch1.8.1+cuda111/lib/python3.8/multiprocessing/connection.py\", line 216, in recv_bytes\n",
      "    buf = self._recv_bytes(maxlength)\n",
      "KeyboardInterrupt\n",
      "KeyboardInterrupt\n",
      "KeyboardInterrupt\n",
      "  File \"/home/mjl/anaconda3/envs/torch1.8.1+cuda111/lib/python3.8/multiprocessing/connection.py\", line 414, in _recv_bytes\n",
      "    buf = self._recv(4)\n",
      "  File \"/home/mjl/anaconda3/envs/torch1.8.1+cuda111/lib/python3.8/multiprocessing/connection.py\", line 379, in _recv\n",
      "    chunk = read(handle, remaining)\n",
      "KeyboardInterrupt\n"
     ]
    }
   ],
   "source": [
    "%%time\n",
    "pool = ProcessPoolExecutor(max_workers=10)\n",
    "\n",
    "lines_dict = list(pool.map(line2dict, lines))\n",
    "\n",
    "len(lines_dict)"
   ]
  },
  {
   "cell_type": "code",
   "execution_count": 81,
   "id": "7635e267-3e9c-48b6-ac18-9cfd7ad5d8cf",
   "metadata": {},
   "outputs": [],
   "source": [
    "with open(f'./data/train/{file_name}.json', 'w') as f:\n",
    "    json.dump(lines_dict, f)"
   ]
  },
  {
   "cell_type": "code",
   "execution_count": 24,
   "id": "9702acf2-705b-447b-9b10-efa5fbcb00a1",
   "metadata": {},
   "outputs": [],
   "source": [
    "# def raw2json(path, num_workers=40):\n",
    "\n",
    "#     lines = get_lines(path)\n",
    "#     pool = ProcessPoolExecutor(max_workers=num_workers)\n",
    "#     lines_dict = list(pool.map(line2dict, lines))\n",
    "    \n",
    "#     stem = path.name.split('.')[0]\n",
    "#     with open(f'./data/train/{stem}.json', 'w') as f:\n",
    "#         json.dump(lines_dict, f)"
   ]
  },
  {
   "cell_type": "code",
   "execution_count": 11,
   "id": "91f30c1f",
   "metadata": {},
   "outputs": [
    {
     "data": {
      "text/plain": [
       "lowtemp        -0.501395\n",
       "hightemp       -2.264230\n",
       "tempdiff       -2.089323\n",
       "weekday         5.000000\n",
       "weather_code    3.000000\n",
       "Name: 20200801, dtype: float64"
      ]
     },
     "execution_count": 11,
     "metadata": {},
     "output_type": "execute_result"
    }
   ],
   "source": [
    "weather_dct['20200801']"
   ]
  },
  {
   "cell_type": "code",
   "execution_count": 6,
   "id": "6f4b1ef8-8953-495f-aef1-3d8a45b9619d",
   "metadata": {},
   "outputs": [],
   "source": [
    "def raw2msgpack(path, weather_dct, num_workers=40):\n",
    "    \"输入要处理的文件路径\"\n",
    "    set_trace()\n",
    "    lines = get_lines(path)\n",
    "    \n",
    "    path.stem\n",
    "    \n",
    "    pool = ProcessPoolExecutor(max_workers=num_workers)\n",
    "    lines_dict = list(pool.map(line2dict, lines))\n",
    "    \n",
    "    stem = path.name.split('.')[0]\n",
    "    with open(f'./data/msgpack/{stem}.msgpack', 'wb') as f:\n",
    "        packed = msgpack.packb(lines_dict)\n",
    "        f.write(packed)\n",
    "        \n",
    "# with open(\"./data/msgpack/data.msgpack\", \"wb\") as outfile:\n",
    "#     packed = msgpack.packb(lines_dict)\n",
    "#     outfile.write(packed)"
   ]
  },
  {
   "cell_type": "markdown",
   "id": "3677eb18-08a0-4cac-bbec-50b40b6111a5",
   "metadata": {},
   "source": [
    "#### generate train data"
   ]
  },
  {
   "cell_type": "code",
   "execution_count": 7,
   "id": "f482b8cd-0cb3-49d8-a2be-73e5fe316ced",
   "metadata": {},
   "outputs": [
    {
     "ename": "NameError",
     "evalue": "name 'raw2json' is not defined",
     "output_type": "error",
     "traceback": [
      "\u001b[0;31m---------------------------------------------------------------------------\u001b[0m",
      "\u001b[0;31mNameError\u001b[0m                                 Traceback (most recent call last)",
      "\u001b[0;32m<timed exec>\u001b[0m in \u001b[0;36m<module>\u001b[0;34m\u001b[0m\n",
      "\u001b[0;31mNameError\u001b[0m: name 'raw2json' is not defined"
     ]
    }
   ],
   "source": [
    "# %%time\n",
    "# # generate train data\n",
    "# file_name = \"20200801.txt\"\n",
    "# raw2json(folder/f'train/{file_name}')"
   ]
  },
  {
   "cell_type": "markdown",
   "id": "f769e2da-d3c5-46f1-b8a7-a6f35eccb5e1",
   "metadata": {},
   "source": [
    "#### generate test data"
   ]
  },
  {
   "cell_type": "code",
   "execution_count": 65,
   "id": "3943c825-e952-4adb-a053-2757b98d388f",
   "metadata": {},
   "outputs": [],
   "source": [
    "# generate test data\n",
    "file_name = \"20200901_test.txt\"\n",
    "raw2msgpack(folder/f'{file_name}')\n",
    "# raw2json(folder/f'{file_name}')"
   ]
  },
  {
   "cell_type": "markdown",
   "id": "438c5866-0677-438e-b97a-cef2c0d3768b",
   "metadata": {},
   "source": [
    "#### generate all train data"
   ]
  },
  {
   "cell_type": "code",
   "execution_count": 10,
   "id": "e62be977-7c1b-4311-bb20-daf090b8c543",
   "metadata": {
    "collapsed": true,
    "tags": []
   },
   "outputs": [
    {
     "name": "stdout",
     "output_type": "stream",
     "text": [
      "Processing 20200801.txt\n",
      "> \u001b[0;32m<ipython-input-6-f36acea2c2f5>\u001b[0m(4)\u001b[0;36mraw2msgpack\u001b[0;34m()\u001b[0m\n",
      "\u001b[0;32m      2 \u001b[0;31m    \u001b[0;34m\"输入要处理的文件路径\"\u001b[0m\u001b[0;34m\u001b[0m\u001b[0;34m\u001b[0m\u001b[0m\n",
      "\u001b[0m\u001b[0;32m      3 \u001b[0;31m    \u001b[0mset_trace\u001b[0m\u001b[0;34m(\u001b[0m\u001b[0;34m)\u001b[0m\u001b[0;34m\u001b[0m\u001b[0;34m\u001b[0m\u001b[0m\n",
      "\u001b[0m\u001b[0;32m----> 4 \u001b[0;31m    \u001b[0mlines\u001b[0m \u001b[0;34m=\u001b[0m \u001b[0mget_lines\u001b[0m\u001b[0;34m(\u001b[0m\u001b[0mpath\u001b[0m\u001b[0;34m)\u001b[0m\u001b[0;34m\u001b[0m\u001b[0;34m\u001b[0m\u001b[0m\n",
      "\u001b[0m\u001b[0;32m      5 \u001b[0;31m    \u001b[0mpool\u001b[0m \u001b[0;34m=\u001b[0m \u001b[0mProcessPoolExecutor\u001b[0m\u001b[0;34m(\u001b[0m\u001b[0mmax_workers\u001b[0m\u001b[0;34m=\u001b[0m\u001b[0mnum_workers\u001b[0m\u001b[0;34m)\u001b[0m\u001b[0;34m\u001b[0m\u001b[0;34m\u001b[0m\u001b[0m\n",
      "\u001b[0m\u001b[0;32m      6 \u001b[0;31m    \u001b[0mlines_dict\u001b[0m \u001b[0;34m=\u001b[0m \u001b[0mlist\u001b[0m\u001b[0;34m(\u001b[0m\u001b[0mpool\u001b[0m\u001b[0;34m.\u001b[0m\u001b[0mmap\u001b[0m\u001b[0;34m(\u001b[0m\u001b[0mline2dict\u001b[0m\u001b[0;34m,\u001b[0m \u001b[0mlines\u001b[0m\u001b[0;34m)\u001b[0m\u001b[0;34m)\u001b[0m\u001b[0;34m\u001b[0m\u001b[0;34m\u001b[0m\u001b[0m\n",
      "\u001b[0m\n",
      "ipdb> path\n",
      "PosixPath('/home/mjl/data/giscup_2021/train/20200801.txt')\n",
      "ipdb> path.name\n",
      "'20200801.txt'\n",
      "ipdb> path.stem\n",
      "'20200801'\n",
      "ipdb> q\n"
     ]
    },
    {
     "ename": "BdbQuit",
     "evalue": "",
     "output_type": "error",
     "traceback": [
      "\u001b[0;31m---------------------------------------------------------------------------\u001b[0m",
      "\u001b[0;31mBdbQuit\u001b[0m                                   Traceback (most recent call last)",
      "\u001b[0;32m<timed exec>\u001b[0m in \u001b[0;36m<module>\u001b[0;34m\u001b[0m\n",
      "\u001b[0;32m<ipython-input-6-f36acea2c2f5>\u001b[0m in \u001b[0;36mraw2msgpack\u001b[0;34m(path, num_workers)\u001b[0m\n\u001b[1;32m      2\u001b[0m     \u001b[0;34m\"输入要处理的文件路径\"\u001b[0m\u001b[0;34m\u001b[0m\u001b[0;34m\u001b[0m\u001b[0m\n\u001b[1;32m      3\u001b[0m     \u001b[0mset_trace\u001b[0m\u001b[0;34m(\u001b[0m\u001b[0;34m)\u001b[0m\u001b[0;34m\u001b[0m\u001b[0;34m\u001b[0m\u001b[0m\n\u001b[0;32m----> 4\u001b[0;31m     \u001b[0mlines\u001b[0m \u001b[0;34m=\u001b[0m \u001b[0mget_lines\u001b[0m\u001b[0;34m(\u001b[0m\u001b[0mpath\u001b[0m\u001b[0;34m)\u001b[0m\u001b[0;34m\u001b[0m\u001b[0;34m\u001b[0m\u001b[0m\n\u001b[0m\u001b[1;32m      5\u001b[0m     \u001b[0mpool\u001b[0m \u001b[0;34m=\u001b[0m \u001b[0mProcessPoolExecutor\u001b[0m\u001b[0;34m(\u001b[0m\u001b[0mmax_workers\u001b[0m\u001b[0;34m=\u001b[0m\u001b[0mnum_workers\u001b[0m\u001b[0;34m)\u001b[0m\u001b[0;34m\u001b[0m\u001b[0;34m\u001b[0m\u001b[0m\n\u001b[1;32m      6\u001b[0m     \u001b[0mlines_dict\u001b[0m \u001b[0;34m=\u001b[0m \u001b[0mlist\u001b[0m\u001b[0;34m(\u001b[0m\u001b[0mpool\u001b[0m\u001b[0;34m.\u001b[0m\u001b[0mmap\u001b[0m\u001b[0;34m(\u001b[0m\u001b[0mline2dict\u001b[0m\u001b[0;34m,\u001b[0m \u001b[0mlines\u001b[0m\u001b[0;34m)\u001b[0m\u001b[0;34m)\u001b[0m\u001b[0;34m\u001b[0m\u001b[0;34m\u001b[0m\u001b[0m\n",
      "\u001b[0;32m<ipython-input-6-f36acea2c2f5>\u001b[0m in \u001b[0;36mraw2msgpack\u001b[0;34m(path, num_workers)\u001b[0m\n\u001b[1;32m      2\u001b[0m     \u001b[0;34m\"输入要处理的文件路径\"\u001b[0m\u001b[0;34m\u001b[0m\u001b[0;34m\u001b[0m\u001b[0m\n\u001b[1;32m      3\u001b[0m     \u001b[0mset_trace\u001b[0m\u001b[0;34m(\u001b[0m\u001b[0;34m)\u001b[0m\u001b[0;34m\u001b[0m\u001b[0;34m\u001b[0m\u001b[0m\n\u001b[0;32m----> 4\u001b[0;31m     \u001b[0mlines\u001b[0m \u001b[0;34m=\u001b[0m \u001b[0mget_lines\u001b[0m\u001b[0;34m(\u001b[0m\u001b[0mpath\u001b[0m\u001b[0;34m)\u001b[0m\u001b[0;34m\u001b[0m\u001b[0;34m\u001b[0m\u001b[0m\n\u001b[0m\u001b[1;32m      5\u001b[0m     \u001b[0mpool\u001b[0m \u001b[0;34m=\u001b[0m \u001b[0mProcessPoolExecutor\u001b[0m\u001b[0;34m(\u001b[0m\u001b[0mmax_workers\u001b[0m\u001b[0;34m=\u001b[0m\u001b[0mnum_workers\u001b[0m\u001b[0;34m)\u001b[0m\u001b[0;34m\u001b[0m\u001b[0;34m\u001b[0m\u001b[0m\n\u001b[1;32m      6\u001b[0m     \u001b[0mlines_dict\u001b[0m \u001b[0;34m=\u001b[0m \u001b[0mlist\u001b[0m\u001b[0;34m(\u001b[0m\u001b[0mpool\u001b[0m\u001b[0;34m.\u001b[0m\u001b[0mmap\u001b[0m\u001b[0;34m(\u001b[0m\u001b[0mline2dict\u001b[0m\u001b[0;34m,\u001b[0m \u001b[0mlines\u001b[0m\u001b[0;34m)\u001b[0m\u001b[0;34m)\u001b[0m\u001b[0;34m\u001b[0m\u001b[0;34m\u001b[0m\u001b[0m\n",
      "\u001b[0;32m~/anaconda3/envs/torch1.8.1+cuda111/lib/python3.8/bdb.py\u001b[0m in \u001b[0;36mtrace_dispatch\u001b[0;34m(self, frame, event, arg)\u001b[0m\n\u001b[1;32m     86\u001b[0m             \u001b[0;32mreturn\u001b[0m \u001b[0;31m# None\u001b[0m\u001b[0;34m\u001b[0m\u001b[0;34m\u001b[0m\u001b[0m\n\u001b[1;32m     87\u001b[0m         \u001b[0;32mif\u001b[0m \u001b[0mevent\u001b[0m \u001b[0;34m==\u001b[0m \u001b[0;34m'line'\u001b[0m\u001b[0;34m:\u001b[0m\u001b[0;34m\u001b[0m\u001b[0;34m\u001b[0m\u001b[0m\n\u001b[0;32m---> 88\u001b[0;31m             \u001b[0;32mreturn\u001b[0m \u001b[0mself\u001b[0m\u001b[0;34m.\u001b[0m\u001b[0mdispatch_line\u001b[0m\u001b[0;34m(\u001b[0m\u001b[0mframe\u001b[0m\u001b[0;34m)\u001b[0m\u001b[0;34m\u001b[0m\u001b[0;34m\u001b[0m\u001b[0m\n\u001b[0m\u001b[1;32m     89\u001b[0m         \u001b[0;32mif\u001b[0m \u001b[0mevent\u001b[0m \u001b[0;34m==\u001b[0m \u001b[0;34m'call'\u001b[0m\u001b[0;34m:\u001b[0m\u001b[0;34m\u001b[0m\u001b[0;34m\u001b[0m\u001b[0m\n\u001b[1;32m     90\u001b[0m             \u001b[0;32mreturn\u001b[0m \u001b[0mself\u001b[0m\u001b[0;34m.\u001b[0m\u001b[0mdispatch_call\u001b[0m\u001b[0;34m(\u001b[0m\u001b[0mframe\u001b[0m\u001b[0;34m,\u001b[0m \u001b[0marg\u001b[0m\u001b[0;34m)\u001b[0m\u001b[0;34m\u001b[0m\u001b[0;34m\u001b[0m\u001b[0m\n",
      "\u001b[0;32m~/anaconda3/envs/torch1.8.1+cuda111/lib/python3.8/bdb.py\u001b[0m in \u001b[0;36mdispatch_line\u001b[0;34m(self, frame)\u001b[0m\n\u001b[1;32m    111\u001b[0m         \u001b[0;32mif\u001b[0m \u001b[0mself\u001b[0m\u001b[0;34m.\u001b[0m\u001b[0mstop_here\u001b[0m\u001b[0;34m(\u001b[0m\u001b[0mframe\u001b[0m\u001b[0;34m)\u001b[0m \u001b[0;32mor\u001b[0m \u001b[0mself\u001b[0m\u001b[0;34m.\u001b[0m\u001b[0mbreak_here\u001b[0m\u001b[0;34m(\u001b[0m\u001b[0mframe\u001b[0m\u001b[0;34m)\u001b[0m\u001b[0;34m:\u001b[0m\u001b[0;34m\u001b[0m\u001b[0;34m\u001b[0m\u001b[0m\n\u001b[1;32m    112\u001b[0m             \u001b[0mself\u001b[0m\u001b[0;34m.\u001b[0m\u001b[0muser_line\u001b[0m\u001b[0;34m(\u001b[0m\u001b[0mframe\u001b[0m\u001b[0;34m)\u001b[0m\u001b[0;34m\u001b[0m\u001b[0;34m\u001b[0m\u001b[0m\n\u001b[0;32m--> 113\u001b[0;31m             \u001b[0;32mif\u001b[0m \u001b[0mself\u001b[0m\u001b[0;34m.\u001b[0m\u001b[0mquitting\u001b[0m\u001b[0;34m:\u001b[0m \u001b[0;32mraise\u001b[0m \u001b[0mBdbQuit\u001b[0m\u001b[0;34m\u001b[0m\u001b[0;34m\u001b[0m\u001b[0m\n\u001b[0m\u001b[1;32m    114\u001b[0m         \u001b[0;32mreturn\u001b[0m \u001b[0mself\u001b[0m\u001b[0;34m.\u001b[0m\u001b[0mtrace_dispatch\u001b[0m\u001b[0;34m\u001b[0m\u001b[0;34m\u001b[0m\u001b[0m\n\u001b[1;32m    115\u001b[0m \u001b[0;34m\u001b[0m\u001b[0m\n",
      "\u001b[0;31mBdbQuit\u001b[0m: "
     ]
    }
   ],
   "source": [
    "%%time\n",
    "# generate all train data\n",
    "for i in range(1, 1+1):\n",
    "    file_name = f\"202008{i:02}.txt\"\n",
    "    print(f\"Processing {file_name}\")\n",
    "    #raw2json(folder/f'train/{file_name}')\n",
    "    raw2msgpack(folder/f'train/{file_name}')"
   ]
  },
  {
   "cell_type": "markdown",
   "id": "8f3ed626-3aef-4c5f-86f5-8c78b7b1bac3",
   "metadata": {},
   "source": [
    "#### load json"
   ]
  },
  {
   "cell_type": "code",
   "execution_count": 54,
   "id": "d6e97e5a-1ab8-4bc1-9864-246021bdeebc",
   "metadata": {},
   "outputs": [
    {
     "name": "stdout",
     "output_type": "stream",
     "text": [
      "CPU times: user 36.9 s, sys: 6.06 s, total: 42.9 s\n",
      "Wall time: 44.3 s\n"
     ]
    }
   ],
   "source": [
    "%%time\n",
    "with open(f'./data/train/20200825.json', 'r') as f:\n",
    "    data = ujson.load(f)"
   ]
  },
  {
   "cell_type": "markdown",
   "id": "8994f1d7-c652-40a9-809e-7e07c486438f",
   "metadata": {},
   "source": [
    "## Pickle"
   ]
  },
  {
   "cell_type": "code",
   "execution_count": 43,
   "id": "2a464da3-87da-459e-a358-8130d55e8f81",
   "metadata": {},
   "outputs": [
    {
     "data": {
      "text/plain": [
       "329123"
      ]
     },
     "execution_count": 43,
     "metadata": {},
     "output_type": "execute_result"
    }
   ],
   "source": [
    "len(lines_dict)"
   ]
  },
  {
   "cell_type": "code",
   "execution_count": 46,
   "id": "c0119797-1200-436e-a5e5-98ccd8ea2713",
   "metadata": {},
   "outputs": [],
   "source": [
    "with open('./data/pickle/filename.pickle', 'wb') as f:\n",
    "    pickle.dump(lines_dict, f)"
   ]
  },
  {
   "cell_type": "code",
   "execution_count": 56,
   "id": "b4e7bb5f-0cc0-4be3-964f-e6d13d2f148b",
   "metadata": {},
   "outputs": [
    {
     "name": "stdout",
     "output_type": "stream",
     "text": [
      "CPU times: user 26.2 s, sys: 3.77 s, total: 30 s\n",
      "Wall time: 29.9 s\n"
     ]
    }
   ],
   "source": [
    "%%time\n",
    "with open('./data/pickle/filename.pickle', 'rb') as handle:\n",
    "    b = pickle.load(handle)"
   ]
  },
  {
   "cell_type": "markdown",
   "id": "50018ed3-18bd-4c33-a248-1e3084eb385d",
   "metadata": {},
   "source": [
    "## Msgpack"
   ]
  },
  {
   "cell_type": "code",
   "execution_count": 48,
   "id": "72ea1387-7a25-4230-a193-4b88abc6cb03",
   "metadata": {},
   "outputs": [
    {
     "data": {
      "text/plain": [
       "329123"
      ]
     },
     "execution_count": 48,
     "metadata": {},
     "output_type": "execute_result"
    }
   ],
   "source": [
    "len(lines_dict)"
   ]
  },
  {
   "cell_type": "code",
   "execution_count": 49,
   "id": "e4a973b3-93fd-4548-97e6-b95fc289a796",
   "metadata": {},
   "outputs": [],
   "source": [
    "with open(\"./data/msgpack/data.msgpack\", \"wb\") as outfile:\n",
    "    packed = msgpack.packb(lines_dict)\n",
    "    outfile.write(packed)"
   ]
  },
  {
   "cell_type": "code",
   "execution_count": 55,
   "id": "0c984eff-8022-4429-80f6-9b53da51b1ad",
   "metadata": {},
   "outputs": [
    {
     "name": "stdout",
     "output_type": "stream",
     "text": [
      "CPU times: user 9.22 s, sys: 3.71 s, total: 12.9 s\n",
      "Wall time: 12.9 s\n"
     ]
    }
   ],
   "source": [
    "%%time\n",
    "with open(\"./data/msgpack/data.msgpack\", \"rb\") as data_file:\n",
    "    byte_data = data_file.read()\n",
    "    \n",
    "data_loaded = msgpack.unpackb(byte_data, use_list=False)"
   ]
  },
  {
   "cell_type": "code",
   "execution_count": null,
   "id": "f645998b",
   "metadata": {},
   "outputs": [],
   "source": []
  },
  {
   "cell_type": "markdown",
   "id": "bfb9ef67",
   "metadata": {},
   "source": [
    "## 都拼在一起给百度大哥的"
   ]
  },
  {
   "cell_type": "code",
   "execution_count": 37,
   "id": "5c7f3333",
   "metadata": {},
   "outputs": [],
   "source": [
    "from concurrent.futures import ProcessPoolExecutor\n",
    "import msgpack\n",
    "from pathlib import Path\n",
    "import numpy as np\n",
    "import re\n",
    "\n",
    "folder = Path(\"/home/mjl/data/giscup_2021\")\n",
    "\n",
    "def get_lines(path):\n",
    "    with open(path, 'r') as f:\n",
    "        lines = f.readlines()\n",
    "        return lines\n",
    "    \n",
    "def line2part(line):\n",
    "    head, link, cross = line.split(';;')\n",
    "    return head, link, cross\n",
    "\n",
    "def link2npary(link):\n",
    "    return np.asarray(\n",
    "            [re.split(':|,', l) for l in link.split()], \n",
    "             dtype=float\n",
    "           )\n",
    "def cross2npary(cross):\n",
    "    return np.asarray([ re.split('_|:', c) for c in cross.split()], dtype='float')\n",
    "\n",
    "\n",
    "def line2dict(line):\n",
    "    head, link, cross = line2part(line)\n",
    "    \n",
    "    # head\n",
    "    head_keys = [\"order_id\", \"eta\", \"dist\", \"simple_eta\", \"driver_id\", \"slice_id\"]\n",
    "    head_dict = dict(zip(head_keys, np.asarray(head.split(), dtype=float)))\n",
    "    \n",
    "    # line\n",
    "    link_ary = link2npary(link)\n",
    "    link_id = link_ary[:, 0].tolist()\n",
    "\n",
    "    link_time = link_ary[:, 1].tolist()\n",
    "\n",
    "    link_ratio = link_ary[:, 2].tolist()\n",
    "\n",
    "    link_current_status = link_ary[:, 3].tolist()\n",
    "\n",
    "    link_arrival_status = link_ary[:, 4].tolist()\n",
    "\n",
    "    link_keys = [\"link_id\", \"link_time\", \"link_ratio\", \"link_current_status\", \"link_arrival_status\"]\n",
    "\n",
    "    link_dict = dict(zip(link_keys, \n",
    "             [link_id, link_time, link_ratio, link_current_status, link_arrival_status]))\n",
    "    \n",
    "\n",
    "    # cross\n",
    "    if len(cross.strip()) == 0:\n",
    "        cross_dict={}\n",
    "        cross_start = []\n",
    "        cross_end = []\n",
    "        cross_time = []\n",
    "        cross_keys = [\"cross_start\", \"cross_end\", \"cross_time\"]\n",
    "        cross_dict = dict(zip(cross_keys, \n",
    "                 [cross_start, cross_end, cross_time]))\n",
    "    else:\n",
    "        cross_ary = cross2npary(cross)\n",
    "\n",
    "        cross_start = cross_ary[:, 0].tolist()\n",
    "        cross_end = cross_ary[:, 1].tolist()\n",
    "        cross_time = cross_ary[:, 2].tolist()\n",
    "\n",
    "        cross_keys = [\"cross_start\", \"cross_end\", \"cross_time\"]\n",
    "        cross_dict = dict(zip(cross_keys, \n",
    "                 [cross_start, cross_end, cross_time]))\n",
    "    \n",
    "    # combine all    \n",
    "    line_dict = {}\n",
    "    line_dict.update(head_dict)\n",
    "    line_dict.update(link_dict)\n",
    "    line_dict.update(cross_dict)\n",
    "    \n",
    "    return line_dict\n",
    "\n",
    "def raw2msgpack(path, num_workers=20):\n",
    "    \"输入要处理的文件路径\"\n",
    "    lines = get_lines(path)\n",
    "    pool = ProcessPoolExecutor(max_workers=num_workers)\n",
    "    lines_dict = list(pool.map(line2dict, lines))\n",
    "    \n",
    "    stem = path.name.split('.')[0]\n",
    "    with open(f'./data/msgpack/{stem}.testmsgpack', 'wb') as f:\n",
    "        packed = msgpack.packb(lines_dict)\n",
    "        f.write(packed)\n",
    "        \n",
    "# generate all train data\n",
    "for i in range(31, 31+1):\n",
    "    file_name = f\"202008{i:02}.txt\"\n",
    "    \n",
    "    print(f\"Processing {file_name}\")\n",
    "    #raw2json(folder/f'train/{file_name}')\n",
    "    raw2msgpack(folder/f'train/{file_name}')"
   ]
  },
  {
   "cell_type": "markdown",
   "id": "b6384b16",
   "metadata": {},
   "source": [
    "## 新版本 生成训练数据"
   ]
  },
  {
   "cell_type": "code",
   "execution_count": 14,
   "id": "c731f6b2",
   "metadata": {},
   "outputs": [],
   "source": [
    "from functools import partial"
   ]
  },
  {
   "cell_type": "code",
   "execution_count": 6,
   "id": "aef80df9",
   "metadata": {},
   "outputs": [],
   "source": [
    "def load_pickle(file_path):\n",
    "    with open(file_path,'rb') as f:\n",
    "        content = pickle.load(f)\n",
    "    return content"
   ]
  },
  {
   "cell_type": "code",
   "execution_count": 7,
   "id": "73ad15dd",
   "metadata": {},
   "outputs": [],
   "source": [
    "weather_dct = load_pickle('data/weather_dct.pkl')"
   ]
  },
  {
   "cell_type": "code",
   "execution_count": 12,
   "id": "55690e58",
   "metadata": {},
   "outputs": [
    {
     "data": {
      "text/plain": [
       "lowtemp         26\n",
       "hightemp        28\n",
       "weekday          5\n",
       "weather_code     3\n",
       "Name: 20200801, dtype: int64"
      ]
     },
     "execution_count": 12,
     "metadata": {},
     "output_type": "execute_result"
    }
   ],
   "source": [
    "weather_dct['20200801']"
   ]
  },
  {
   "cell_type": "code",
   "execution_count": 57,
   "id": "cd5e0f35",
   "metadata": {
    "collapsed": true
   },
   "outputs": [
    {
     "name": "stdout",
     "output_type": "stream",
     "text": [
      "Processing 20200801.txt\n",
      "Processing 20200802.txt\n",
      "Processing 20200803.txt\n",
      "Processing 20200804.txt\n",
      "Processing 20200805.txt\n",
      "Processing 20200806.txt\n",
      "Processing 20200807.txt\n",
      "Processing 20200808.txt\n",
      "Processing 20200809.txt\n",
      "Processing 20200810.txt\n",
      "Processing 20200811.txt\n",
      "Processing 20200812.txt\n",
      "Processing 20200813.txt\n",
      "Processing 20200814.txt\n",
      "Processing 20200815.txt\n",
      "Processing 20200816.txt\n",
      "Processing 20200817.txt\n",
      "Processing 20200818.txt\n",
      "Processing 20200819.txt\n",
      "Processing 20200820.txt\n",
      "Processing 20200821.txt\n",
      "Processing 20200822.txt\n",
      "Processing 20200823.txt\n",
      "Processing 20200824.txt\n",
      "Processing 20200825.txt\n",
      "Processing 20200826.txt\n",
      "Processing 20200827.txt\n",
      "Processing 20200828.txt\n",
      "Processing 20200829.txt\n",
      "Processing 20200830.txt\n",
      "Processing 20200831.txt\n",
      "CPU times: user 59min 10s, sys: 14min 22s, total: 1h 13min 33s\n",
      "Wall time: 1h 9min 42s\n"
     ]
    }
   ],
   "source": [
    "%%time\n",
    "# generate all train data\n",
    "for i in range(1, 31+1):\n",
    "    \n",
    "    file_name = f\"202008{i:02}.txt\"\n",
    "    print(f\"Processing {file_name}\")\n",
    "    \n",
    "    #raw2json(folder/f'train/{file_name}')\n",
    "    day_weather = weather_dct[f'202008{i:02}']\n",
    "\n",
    "    raw2msgpack(folder/f'train/{file_name}', day_weather)"
   ]
  },
  {
   "cell_type": "code",
   "execution_count": 60,
   "id": "167ad43c",
   "metadata": {},
   "outputs": [
    {
     "name": "stdout",
     "output_type": "stream",
     "text": [
      "CPU times: user 1min 50s, sys: 28.1 s, total: 2min 18s\n",
      "Wall time: 2min 10s\n"
     ]
    }
   ],
   "source": [
    "%%time\n",
    "# generate test data\n",
    "file_name = \"20200901_test.txt\"\n",
    "\n",
    "day_weather = weather_dct[f'20200901']\n",
    "\n",
    "raw2msgpack(folder/f'{file_name}', day_weather)"
   ]
  },
  {
   "cell_type": "code",
   "execution_count": 48,
   "id": "771737db",
   "metadata": {},
   "outputs": [],
   "source": [
    "def raw2msgpack(path, day_weather, num_workers=40):\n",
    "    \"输入要处理的文件路径\"\n",
    "    lines = get_lines(path)\n",
    "\n",
    "    \n",
    "    pool = ProcessPoolExecutor(max_workers=num_workers)\n",
    "    \n",
    "    line2dict_weather = partial(line2dict, weather=day_weather)\n",
    "\n",
    "    lines_dict = list(pool.map(line2dict_weather, lines))\n",
    "    \n",
    "    stem = path.name.split('.')[0]\n",
    "    with open(f'./data/new_msgpack/{stem}.msgpack', 'wb') as f:\n",
    "        packed = msgpack.packb(lines_dict)\n",
    "        f.write(packed)"
   ]
  },
  {
   "cell_type": "code",
   "execution_count": 47,
   "id": "ee3f1064",
   "metadata": {},
   "outputs": [],
   "source": [
    "def line2dict(line, weather):\n",
    "    weather_keys = [\"lowtemp\", \"hightemp\", \"weekday\", \"weather\"]\n",
    "    lowtemp = weather['lowtemp'].tolist()\n",
    "    hightemp = weather['hightemp'].tolist()\n",
    "    weekday = weather['weekday'].tolist()\n",
    "    weather_code = weather['weather_code'].tolist()\n",
    "    \n",
    "    weather_dict = dict(zip(weather_keys, \n",
    "                            [lowtemp, hightemp, weekday, weather_code]\n",
    "                           )\n",
    "                       )\n",
    "    \n",
    "    head, link, cross = line2part(line)\n",
    "    \n",
    "    # head\n",
    "    head_keys = [\"order_id\", \"eta\", \"dist\", \"simple_eta\", \"driver_id\", \"slice_id\"]\n",
    "    head_dict = dict(zip(head_keys, np.asarray(head.split(), dtype=float)))\n",
    "    \n",
    "    # line\n",
    "    link_ary = link2npary(link)\n",
    "    link_id = link_ary[:, 0].tolist()\n",
    "\n",
    "    link_time = link_ary[:, 1].tolist()\n",
    "\n",
    "    link_ratio = link_ary[:, 2].tolist()\n",
    "\n",
    "    link_current_status = link_ary[:, 3].tolist()\n",
    "\n",
    "    link_arrival_status = link_ary[:, 4].tolist()\n",
    "\n",
    "    link_keys = [\"link_id\", \"link_time\", \"link_ratio\", \"link_current_status\", \"link_arrival_status\"]\n",
    "\n",
    "    link_dict = dict(zip(link_keys, \n",
    "             [link_id, link_time, link_ratio, link_current_status, link_arrival_status]))\n",
    "    \n",
    "\n",
    "    # cross\n",
    "    if len(cross.strip()) == 0:\n",
    "        cross_start = []\n",
    "        cross_end = []\n",
    "        cross_time = []\n",
    "        \n",
    "        cross_keys = [\"cross_start\", \"cross_end\", \"cross_time\"]\n",
    "        cross_dict = dict(zip(cross_keys, \n",
    "                 [cross_start, cross_end, cross_time]))\n",
    "    else:\n",
    "        cross_ary = cross2npary(cross)\n",
    "\n",
    "        cross_start = cross_ary[:, 0].tolist()\n",
    "        cross_end = cross_ary[:, 1].tolist()\n",
    "        cross_time = cross_ary[:, 2].tolist()\n",
    "\n",
    "        cross_keys = [\"cross_start\", \"cross_end\", \"cross_time\"]\n",
    "        cross_dict = dict(zip(cross_keys, \n",
    "                 [cross_start, cross_end, cross_time]))\n",
    "    \n",
    "    # combine all    \n",
    "    line_dict = {}\n",
    "    \n",
    "    line_dict.update(head_dict)\n",
    "    line_dict.update(link_dict)\n",
    "    line_dict.update(cross_dict)\n",
    "    line_dict.update(weather_dict)\n",
    "    \n",
    "    return line_dict"
   ]
  },
  {
   "cell_type": "code",
   "execution_count": null,
   "id": "c29967f7",
   "metadata": {},
   "outputs": [],
   "source": [
    "# 第一天 第17条数据是没有 cross 的"
   ]
  },
  {
   "cell_type": "code",
   "execution_count": null,
   "id": "80de0184",
   "metadata": {},
   "outputs": [],
   "source": []
  },
  {
   "cell_type": "code",
   "execution_count": 50,
   "id": "481f5985",
   "metadata": {},
   "outputs": [
    {
     "name": "stdout",
     "output_type": "stream",
     "text": [
      "CPU times: user 1.3 s, sys: 515 ms, total: 1.81 s\n",
      "Wall time: 1.81 s\n"
     ]
    }
   ],
   "source": [
    "%%time\n",
    "with open(\"./data/new_msgpack/20200801.msgpack\", \"rb\") as data_file:\n",
    "    byte_data = data_file.read()\n",
    "    \n",
    "data_loaded = msgpack.unpackb(byte_data, use_list=False)"
   ]
  },
  {
   "cell_type": "code",
   "execution_count": 52,
   "id": "5ce87f1e",
   "metadata": {},
   "outputs": [
    {
     "data": {
      "text/plain": [
       "74328"
      ]
     },
     "execution_count": 52,
     "metadata": {},
     "output_type": "execute_result"
    }
   ],
   "source": [
    "len(data_loaded)"
   ]
  },
  {
   "cell_type": "code",
   "execution_count": 55,
   "id": "9945ed6a",
   "metadata": {
    "collapsed": true
   },
   "outputs": [
    {
     "data": {
      "text/plain": [
       "{'order_id': 6099942.0,\n",
       " 'eta': 590.0,\n",
       " 'dist': 3212.278,\n",
       " 'simple_eta': 559.0,\n",
       " 'driver_id': 19210.0,\n",
       " 'slice_id': 157.0,\n",
       " 'link_id': (177913.0,\n",
       "  401603.0,\n",
       "  344001.0,\n",
       "  568920.0,\n",
       "  535738.0,\n",
       "  596121.0,\n",
       "  84667.0,\n",
       "  226187.0,\n",
       "  394415.0,\n",
       "  150662.0,\n",
       "  624761.0,\n",
       "  439652.0,\n",
       "  34770.0,\n",
       "  388690.0,\n",
       "  566726.0,\n",
       "  584597.0,\n",
       "  545854.0,\n",
       "  603458.0,\n",
       "  584025.0,\n",
       "  360763.0,\n",
       "  395523.0,\n",
       "  318892.0,\n",
       "  630678.0,\n",
       "  318530.0,\n",
       "  395214.0,\n",
       "  243785.0,\n",
       "  383862.0,\n",
       "  224592.0,\n",
       "  341845.0,\n",
       "  402375.0,\n",
       "  232834.0,\n",
       "  191433.0,\n",
       "  240117.0,\n",
       "  630240.0,\n",
       "  369655.0,\n",
       "  445752.0,\n",
       "  512627.0,\n",
       "  545772.0,\n",
       "  604169.0,\n",
       "  426426.0,\n",
       "  449444.0,\n",
       "  423231.0,\n",
       "  357120.0,\n",
       "  479853.0,\n",
       "  628649.0,\n",
       "  358213.0,\n",
       "  553668.0,\n",
       "  30890.0,\n",
       "  26536.0,\n",
       "  185986.0,\n",
       "  109721.0,\n",
       "  106907.0,\n",
       "  231613.0,\n",
       "  331198.0,\n",
       "  97983.0,\n",
       "  373458.0,\n",
       "  13566.0,\n",
       "  468547.0,\n",
       "  478213.0,\n",
       "  555826.0,\n",
       "  178163.0,\n",
       "  492547.0,\n",
       "  454050.0),\n",
       " 'link_time': (4.3311,\n",
       "  25.9826,\n",
       "  12.15,\n",
       "  4.5333,\n",
       "  3.8323,\n",
       "  2.1333,\n",
       "  3.6,\n",
       "  3.2625,\n",
       "  2.7,\n",
       "  1.44,\n",
       "  4.2923,\n",
       "  4.1538,\n",
       "  2.0769,\n",
       "  4.8462,\n",
       "  5.1231,\n",
       "  6.6462,\n",
       "  5.52,\n",
       "  5.0625,\n",
       "  4.2,\n",
       "  2.9455,\n",
       "  3.2914,\n",
       "  4.6452,\n",
       "  1.0452,\n",
       "  3.0857,\n",
       "  3.12,\n",
       "  11.0118,\n",
       "  19.584,\n",
       "  9.1636,\n",
       "  1.7379,\n",
       "  9.3333,\n",
       "  25.9714,\n",
       "  14.58,\n",
       "  15.3931,\n",
       "  0.9333,\n",
       "  8.6897,\n",
       "  2.88,\n",
       "  1.0125,\n",
       "  0.8229,\n",
       "  6.9677,\n",
       "  2.9793,\n",
       "  7.08,\n",
       "  3.3333,\n",
       "  4.9655,\n",
       "  4.2429,\n",
       "  2.28,\n",
       "  6.9517,\n",
       "  9.675,\n",
       "  10.2194,\n",
       "  13.68,\n",
       "  6.5571,\n",
       "  9.84,\n",
       "  26.2957,\n",
       "  10.56,\n",
       "  10.08,\n",
       "  31.68,\n",
       "  4.4,\n",
       "  8.2957,\n",
       "  7.0286,\n",
       "  10.9895,\n",
       "  5.9538,\n",
       "  5.3419,\n",
       "  1.4233,\n",
       "  19.754),\n",
       " 'link_ratio': (0.1702,\n",
       "  1.0,\n",
       "  1.0,\n",
       "  1.0,\n",
       "  1.0,\n",
       "  1.0,\n",
       "  1.0,\n",
       "  1.0,\n",
       "  1.0,\n",
       "  1.0,\n",
       "  1.0,\n",
       "  1.0,\n",
       "  1.0,\n",
       "  1.0,\n",
       "  1.0,\n",
       "  1.0,\n",
       "  1.0,\n",
       "  1.0,\n",
       "  1.0,\n",
       "  1.0,\n",
       "  1.0,\n",
       "  1.0,\n",
       "  1.0,\n",
       "  1.0,\n",
       "  1.0,\n",
       "  1.0,\n",
       "  1.0,\n",
       "  1.0,\n",
       "  1.0,\n",
       "  1.0,\n",
       "  1.0,\n",
       "  1.0,\n",
       "  1.0,\n",
       "  1.0,\n",
       "  1.0,\n",
       "  1.0,\n",
       "  1.0,\n",
       "  1.0,\n",
       "  1.0,\n",
       "  1.0,\n",
       "  1.0,\n",
       "  1.0,\n",
       "  1.0,\n",
       "  1.0,\n",
       "  1.0,\n",
       "  1.0,\n",
       "  1.0,\n",
       "  1.0,\n",
       "  1.0,\n",
       "  1.0,\n",
       "  1.0,\n",
       "  1.0,\n",
       "  1.0,\n",
       "  1.0,\n",
       "  1.0,\n",
       "  1.0,\n",
       "  1.0,\n",
       "  1.0,\n",
       "  1.0,\n",
       "  1.0,\n",
       "  1.0,\n",
       "  1.0,\n",
       "  0.9683),\n",
       " 'link_current_status': (1.0,\n",
       "  1.0,\n",
       "  1.0,\n",
       "  1.0,\n",
       "  1.0,\n",
       "  1.0,\n",
       "  1.0,\n",
       "  1.0,\n",
       "  1.0,\n",
       "  1.0,\n",
       "  1.0,\n",
       "  1.0,\n",
       "  1.0,\n",
       "  1.0,\n",
       "  1.0,\n",
       "  1.0,\n",
       "  1.0,\n",
       "  1.0,\n",
       "  1.0,\n",
       "  1.0,\n",
       "  1.0,\n",
       "  1.0,\n",
       "  1.0,\n",
       "  1.0,\n",
       "  1.0,\n",
       "  1.0,\n",
       "  1.0,\n",
       "  1.0,\n",
       "  1.0,\n",
       "  1.0,\n",
       "  1.0,\n",
       "  1.0,\n",
       "  1.0,\n",
       "  1.0,\n",
       "  1.0,\n",
       "  1.0,\n",
       "  1.0,\n",
       "  1.0,\n",
       "  1.0,\n",
       "  1.0,\n",
       "  1.0,\n",
       "  1.0,\n",
       "  1.0,\n",
       "  1.0,\n",
       "  1.0,\n",
       "  1.0,\n",
       "  1.0,\n",
       "  1.0,\n",
       "  1.0,\n",
       "  1.0,\n",
       "  1.0,\n",
       "  1.0,\n",
       "  3.0,\n",
       "  2.0,\n",
       "  2.0,\n",
       "  3.0,\n",
       "  2.0,\n",
       "  2.0,\n",
       "  2.0,\n",
       "  1.0,\n",
       "  1.0,\n",
       "  1.0,\n",
       "  1.0),\n",
       " 'link_arrival_status': (0.0,\n",
       "  1.0,\n",
       "  1.0,\n",
       "  1.0,\n",
       "  1.0,\n",
       "  1.0,\n",
       "  1.0,\n",
       "  1.0,\n",
       "  1.0,\n",
       "  1.0,\n",
       "  1.0,\n",
       "  1.0,\n",
       "  1.0,\n",
       "  1.0,\n",
       "  1.0,\n",
       "  1.0,\n",
       "  1.0,\n",
       "  1.0,\n",
       "  1.0,\n",
       "  0.0,\n",
       "  1.0,\n",
       "  1.0,\n",
       "  0.0,\n",
       "  1.0,\n",
       "  1.0,\n",
       "  1.0,\n",
       "  1.0,\n",
       "  1.0,\n",
       "  1.0,\n",
       "  1.0,\n",
       "  1.0,\n",
       "  1.0,\n",
       "  1.0,\n",
       "  1.0,\n",
       "  1.0,\n",
       "  1.0,\n",
       "  0.0,\n",
       "  0.0,\n",
       "  1.0,\n",
       "  1.0,\n",
       "  1.0,\n",
       "  0.0,\n",
       "  1.0,\n",
       "  1.0,\n",
       "  1.0,\n",
       "  1.0,\n",
       "  1.0,\n",
       "  1.0,\n",
       "  1.0,\n",
       "  1.0,\n",
       "  1.0,\n",
       "  1.0,\n",
       "  4.0,\n",
       "  4.0,\n",
       "  2.0,\n",
       "  0.0,\n",
       "  2.0,\n",
       "  2.0,\n",
       "  2.0,\n",
       "  2.0,\n",
       "  2.0,\n",
       "  0.0,\n",
       "  0.0),\n",
       " 'cross_start': (243785.0, 224592.0, 402375.0, 191433.0),\n",
       " 'cross_end': (383862.0, 402375.0, 232834.0, 240117.0),\n",
       " 'cross_time': (30.0, 23.0, 11.0, 19.0),\n",
       " 'lowtemp': 26,\n",
       " 'hightemp': 28,\n",
       " 'weekday': 5,\n",
       " 'weather': 3}"
      ]
     },
     "execution_count": 55,
     "metadata": {},
     "output_type": "execute_result"
    }
   ],
   "source": [
    "data_loaded[1]"
   ]
  },
  {
   "cell_type": "code",
   "execution_count": null,
   "id": "f3c288af",
   "metadata": {},
   "outputs": [],
   "source": []
  },
  {
   "cell_type": "code",
   "execution_count": null,
   "id": "43b8e873",
   "metadata": {},
   "outputs": [],
   "source": []
  },
  {
   "cell_type": "code",
   "execution_count": null,
   "id": "f56f5ac7",
   "metadata": {},
   "outputs": [],
   "source": []
  },
  {
   "cell_type": "code",
   "execution_count": null,
   "id": "72f0313f",
   "metadata": {},
   "outputs": [],
   "source": []
  },
  {
   "cell_type": "code",
   "execution_count": null,
   "id": "71da154f",
   "metadata": {},
   "outputs": [],
   "source": []
  },
  {
   "cell_type": "code",
   "execution_count": null,
   "id": "24ea9917",
   "metadata": {},
   "outputs": [],
   "source": []
  },
  {
   "cell_type": "code",
   "execution_count": null,
   "id": "e271269d",
   "metadata": {},
   "outputs": [],
   "source": []
  },
  {
   "cell_type": "code",
   "execution_count": null,
   "id": "679c2b26",
   "metadata": {},
   "outputs": [],
   "source": []
  },
  {
   "cell_type": "code",
   "execution_count": null,
   "id": "dea5a9c8",
   "metadata": {},
   "outputs": [],
   "source": []
  },
  {
   "cell_type": "code",
   "execution_count": null,
   "id": "cc99fb92",
   "metadata": {},
   "outputs": [],
   "source": []
  },
  {
   "cell_type": "code",
   "execution_count": null,
   "id": "25ac7714",
   "metadata": {},
   "outputs": [],
   "source": []
  },
  {
   "cell_type": "code",
   "execution_count": null,
   "id": "1c5d386f",
   "metadata": {},
   "outputs": [],
   "source": []
  },
  {
   "cell_type": "code",
   "execution_count": null,
   "id": "8102c94f",
   "metadata": {},
   "outputs": [],
   "source": []
  },
  {
   "cell_type": "code",
   "execution_count": null,
   "id": "4062b1b7",
   "metadata": {},
   "outputs": [],
   "source": []
  },
  {
   "cell_type": "code",
   "execution_count": null,
   "id": "42cefdb2",
   "metadata": {},
   "outputs": [],
   "source": []
  },
  {
   "cell_type": "code",
   "execution_count": null,
   "id": "28dc009e",
   "metadata": {},
   "outputs": [],
   "source": []
  },
  {
   "cell_type": "code",
   "execution_count": null,
   "id": "bba16322",
   "metadata": {},
   "outputs": [],
   "source": []
  },
  {
   "cell_type": "code",
   "execution_count": null,
   "id": "7222b878",
   "metadata": {},
   "outputs": [],
   "source": []
  },
  {
   "cell_type": "code",
   "execution_count": null,
   "id": "fd4012a5",
   "metadata": {},
   "outputs": [],
   "source": []
  },
  {
   "cell_type": "code",
   "execution_count": null,
   "id": "b6d916a1",
   "metadata": {},
   "outputs": [],
   "source": []
  }
 ],
 "metadata": {
  "kernelspec": {
   "display_name": "Python 3",
   "language": "python",
   "name": "python3"
  },
  "language_info": {
   "codemirror_mode": {
    "name": "ipython",
    "version": 3
   },
   "file_extension": ".py",
   "mimetype": "text/x-python",
   "name": "python",
   "nbconvert_exporter": "python",
   "pygments_lexer": "ipython3",
   "version": "3.8.8"
  },
  "toc": {
   "base_numbering": 1,
   "nav_menu": {},
   "number_sections": true,
   "sideBar": true,
   "skip_h1_title": false,
   "title_cell": "Table of Contents",
   "title_sidebar": "Contents",
   "toc_cell": false,
   "toc_position": {},
   "toc_section_display": true,
   "toc_window_display": false
  }
 },
 "nbformat": 4,
 "nbformat_minor": 5
}
